{
 "cells": [
  {
   "cell_type": "markdown",
   "id": "7f9939f5",
   "metadata": {},
   "source": [
    "# PHASE - 2"
   ]
  },
  {
   "cell_type": "markdown",
   "id": "3d54518e",
   "metadata": {},
   "source": [
    "## SQL Queries"
   ]
  },
  {
   "cell_type": "code",
   "execution_count": 1,
   "id": "b70fd0c5",
   "metadata": {},
   "outputs": [],
   "source": [
    "import sqlite3\n",
    "import pandas as pd\n",
    "import numpy as np"
   ]
  },
  {
   "cell_type": "code",
   "execution_count": 4,
   "id": "a6cbfada",
   "metadata": {},
   "outputs": [],
   "source": [
    "df=pd.read_csv('Booking_Data.csv',index_col=0)"
   ]
  },
  {
   "cell_type": "code",
   "execution_count": 5,
   "id": "32f299d5",
   "metadata": {},
   "outputs": [
    {
     "data": {
      "text/plain": [
       "Index(['sno', 'hotel_name', 'cities', 'location', 'number_of_reviews',\n",
       "       'user_ratings', 'star_rating', 'review_score', 'free_wifi',\n",
       "       'family_rooms', 'non_smoking_rooms', 'Restaurant', 'Bar', 'Heating',\n",
       "       'Lift', 'breakfast_cuisine1', 'breakfast_cuisine2',\n",
       "       'breakfast_cuisine3', 'room_type', 'single_bed', 'double_bed',\n",
       "       'Prices'],\n",
       "      dtype='object')"
      ]
     },
     "execution_count": 5,
     "metadata": {},
     "output_type": "execute_result"
    }
   ],
   "source": [
    "df.columns"
   ]
  },
  {
   "cell_type": "code",
   "execution_count": 6,
   "id": "e9db55e0",
   "metadata": {},
   "outputs": [],
   "source": [
    "# Now we wil make three different dataframes from which we will make three tables on which we will do some queries"
   ]
  },
  {
   "cell_type": "code",
   "execution_count": 7,
   "id": "d393cc71",
   "metadata": {},
   "outputs": [],
   "source": [
    "Data1=df[['sno','hotel_name','cities','location','number_of_reviews','user_ratings','star_rating','review_score']]"
   ]
  },
  {
   "cell_type": "code",
   "execution_count": 8,
   "id": "bb24eecf",
   "metadata": {},
   "outputs": [],
   "source": [
    "Data1.to_csv('Data1.csv')"
   ]
  },
  {
   "cell_type": "code",
   "execution_count": 9,
   "id": "b2c2d159",
   "metadata": {},
   "outputs": [],
   "source": [
    "Data2=df[['sno','hotel_name','free_wifi',\n",
    "       'family_rooms', 'non_smoking_rooms', 'Restaurant', 'Bar', 'Heating',\n",
    "       'Lift', 'breakfast_cuisine1', 'breakfast_cuisine2',\n",
    "       'breakfast_cuisine3']]"
   ]
  },
  {
   "cell_type": "code",
   "execution_count": 10,
   "id": "72081ef2",
   "metadata": {},
   "outputs": [],
   "source": [
    "Data2.to_csv('Data2.csv')"
   ]
  },
  {
   "cell_type": "code",
   "execution_count": 11,
   "id": "d966127d",
   "metadata": {},
   "outputs": [],
   "source": [
    "Data3=df[['sno','hotel_name','room_type', 'single_bed', 'double_bed',\n",
    "       'Prices']]"
   ]
  },
  {
   "cell_type": "code",
   "execution_count": 12,
   "id": "cc37e230",
   "metadata": {},
   "outputs": [],
   "source": [
    "Data3.to_csv('Data3.csv')"
   ]
  },
  {
   "cell_type": "code",
   "execution_count": 13,
   "id": "db8475c6",
   "metadata": {},
   "outputs": [],
   "source": [
    "db=sqlite3.connect('database.db')"
   ]
  },
  {
   "cell_type": "code",
   "execution_count": 14,
   "id": "8ae83eb4",
   "metadata": {},
   "outputs": [],
   "source": [
    "cursor=db.cursor()"
   ]
  },
  {
   "cell_type": "code",
   "execution_count": 10,
   "id": "5117db3b",
   "metadata": {},
   "outputs": [
    {
     "data": {
      "text/plain": [
       "<sqlite3.Cursor at 0x2bfc4242ea0>"
      ]
     },
     "execution_count": 10,
     "metadata": {},
     "output_type": "execute_result"
    }
   ],
   "source": [
    "cursor.execute(\"CREATE TABLE Table1(sno INTEGER PRIMARY KEY,hotel_name TEXT,cities TEXT,location TEXT,number_of_reviews INT,user_ratings INT,star_rating INT,review_score INT)\")"
   ]
  },
  {
   "cell_type": "code",
   "execution_count": null,
   "id": "82c8d57a",
   "metadata": {},
   "outputs": [],
   "source": [
    "with open('Data1.csv','r')as file:\n",
    "    no_records=0\n",
    "    for row in file:\n",
    "        cursor.execute(\"INSERT INTO Table2 VALUES(?,?,?,?,?,?,?,?)\",row.split(\",\"))\n",
    "        db.commit()\n",
    "        no_records+=1\n",
    "\n",
    "print(no_records)"
   ]
  },
  {
   "cell_type": "code",
   "execution_count": null,
   "id": "7e5950c1",
   "metadata": {},
   "outputs": [],
   "source": [
    "cursor.execute(\"CREATE TABLE Table2(sno INTEGER PRIMARY KEY,hotel_name TEXT,cities TEXT,location TEXT,number_of_reviews INT,user_ratings INT,star_rating INT,review_score INT)\")"
   ]
  },
  {
   "cell_type": "code",
   "execution_count": null,
   "id": "bea53caf",
   "metadata": {},
   "outputs": [],
   "source": [
    "with open('Data2.csv','r')as file:\n",
    "    no_records=0\n",
    "    for row in file:\n",
    "        cursor.execute(\"INSERT INTO Table2 VALUES(?,?,?,?,?,?,?,?)\",row.split(\",\"))\n",
    "        db.commit()\n",
    "        no_records+=1\n",
    "\n",
    "print(no_records)"
   ]
  },
  {
   "cell_type": "code",
   "execution_count": null,
   "id": "c57adc8e",
   "metadata": {},
   "outputs": [],
   "source": [
    "cursor.execute(\"CREATE TABLE Table3(sno INTEGER PRIMARY KEY,hotel_name TEXT,cities TEXT,location TEXT,number_of_reviews INT,user_ratings INT,star_rating INT,review_score INT)\")"
   ]
  },
  {
   "cell_type": "code",
   "execution_count": null,
   "id": "ef56c82c",
   "metadata": {},
   "outputs": [],
   "source": [
    "with open('Data3.csv','r')as file:\n",
    "    no_records=0\n",
    "    for row in file:\n",
    "        cursor.execute(\"INSERT INTO Table3 VALUES(?,?,?,?,?,?,?,?)\",row.split(\",\"))\n",
    "        db.commit()\n",
    "        no_records+=1\n",
    "\n",
    "print(no_records)"
   ]
  },
  {
   "cell_type": "code",
   "execution_count": null,
   "id": "f75b0757",
   "metadata": {},
   "outputs": [],
   "source": [
    "Table 1\n",
    "\n",
    "\n",
    "\n",
    "1)     1  Write a query to give  details of hotels city is Sydney and  ratings is more than 5.\n",
    "\n",
    "\n",
    "\n",
    "2)   2   Write a query  to find the location with the most reviews.\n",
    "\n",
    "\n",
    "\n",
    "3)  3     Write a  query that  will retrieve all rows and sort them in descending order of user ratings.\n",
    "\n",
    "\n",
    "\n",
    "4)   4   Write a query that  retrieves rows where the star rating is greater than or equal to 4.0 and sorts them in descending order of review score.\n",
    "\n",
    "\n",
    "\n",
    "5)    5   Write a query to count the number of hotels in each city."
   ]
  },
  {
   "cell_type": "code",
   "execution_count": null,
   "id": "4d75763c",
   "metadata": {},
   "outputs": [],
   "source": [
    "#1\n",
    "result=cursor.execute(\"SELECT*FROM Table1 WHERE cities='Sydney'AND user_ratings>5\")\n",
    "for row in result :\n",
    "    print(row)"
   ]
  },
  {
   "cell_type": "code",
   "execution_count": null,
   "id": "eddf6c5b",
   "metadata": {},
   "outputs": [],
   "source": [
    "#2\n",
    "result=cursor.execute(\"SELECT locatin,MAX(number_of_reviews)AS most_reviews From Table1\")\n",
    "for row in result :\n",
    "    print(row)"
   ]
  },
  {
   "cell_type": "code",
   "execution_count": null,
   "id": "64b8757f",
   "metadata": {},
   "outputs": [],
   "source": [
    "#3\n",
    "result=cursor.execute(\"SELECT*FROM Table1 ORDER BY user_ratings DESC\")\n",
    "for row in result :\n",
    "    print(row)"
   ]
  },
  {
   "cell_type": "code",
   "execution_count": null,
   "id": "f8316b95",
   "metadata": {},
   "outputs": [],
   "source": [
    "#4\n",
    "result=cursor.execute(\"SELECT*FROM Table1 Where star_ratings>=4.0 ORDER BY review_score DESC\")\n",
    "for row in result :\n",
    "    print(row)"
   ]
  },
  {
   "cell_type": "code",
   "execution_count": null,
   "id": "45fe246d",
   "metadata": {},
   "outputs": [],
   "source": [
    "#5\n",
    "result=cursor.execute(\"SELECT cities,COUNT(*) AS number_of_hotels FROM Table1 Group BY cities\")\n",
    "for row in result :\n",
    "    print(row)"
   ]
  },
  {
   "cell_type": "code",
   "execution_count": null,
   "id": "e79747d3",
   "metadata": {},
   "outputs": [],
   "source": [
    "Table 2\n",
    "\n",
    "\n",
    "\n",
    "1)   1   Write a query to retrieve hotels that have both a restaurant and a bar\n",
    "\n",
    "\n",
    "\n",
    "2)    2  Write a query to retrieve hotels that offer free WiFi and have family rooms.\n",
    "\n",
    "\n",
    "\n",
    "3)  3     Write a query to count the occurrences of each breakfast cuisine type.\n",
    "\n",
    "\n",
    "\n",
    "4)    4   Write a query to retrieve hotels that offer a certain(CONTINENTAL )  breakfast cuisine .{{Students you may give any cuisine as per your choices}}\n",
    "\n",
    "\n",
    "\n",
    "5)    5   Write a query to see whether an hotel has all amenities such as Heating, Lift and Bar."
   ]
  },
  {
   "cell_type": "code",
   "execution_count": null,
   "id": "89a97064",
   "metadata": {},
   "outputs": [],
   "source": [
    "#1\n",
    "result=cursor.execute(\"SELECT*FROM Table2 WHERE Restaurant='Yes' AND BAR='Yes'\")\n",
    "for row in result :\n",
    "    print(row)"
   ]
  },
  {
   "cell_type": "code",
   "execution_count": null,
   "id": "5c9cf032",
   "metadata": {},
   "outputs": [],
   "source": [
    "#2\n",
    "result=cursor.execute(\"SELECT*FROM Table2 WHERE free_wifi='Yes'AND family_rooms='Yes'\")\n",
    "for row in result :\n",
    "    print(row)"
   ]
  },
  {
   "cell_type": "code",
   "execution_count": null,
   "id": "8f91c060",
   "metadata": {},
   "outputs": [],
   "source": [
    "#3\n",
    "result=cursor.execute(\"SELECT [breakfast_cuisine1]AS Cuisine,COUNT(*)AS Count From Table2 UNION \n",
    "                      SELECT[breakfast_cuisine2]AS Cisine,Count(*)AS COunt From Table2 UNION\n",
    "                      SELECT[breakfast_cuisine3]AS Cisine,Count(*)AS COunt From Table2\")\n",
    "for row in result :\n",
    "    print(row)"
   ]
  },
  {
   "cell_type": "code",
   "execution_count": null,
   "id": "d1ba5a9d",
   "metadata": {},
   "outputs": [],
   "source": [
    "#4\n",
    "result=cursor.execute(\"SELECT*FROM Table2 WHERE [breakfast_cusine1]='CONTINENTAL'OR\n",
    "                      [breakfast_cusine2]='CONTINENTAL' OR [breakfast_cusine3]='CONTINENTAL'\")\n",
    "for row in result :\n",
    "    print(row)"
   ]
  },
  {
   "cell_type": "code",
   "execution_count": null,
   "id": "ddb2c48f",
   "metadata": {},
   "outputs": [],
   "source": [
    "#5\n",
    "result=cursor.execute(\"SELECT*FROM Table2 Where Heating='Yes' AND Lift='Yes'AND Bar='Yes'\")\n",
    "for row in result :\n",
    "    print(row)"
   ]
  },
  {
   "cell_type": "code",
   "execution_count": null,
   "id": "7f0dfeb4",
   "metadata": {},
   "outputs": [],
   "source": [
    "Table 3 :\n",
    "\n",
    "\n",
    "\n",
    "1)    1  Write SQL query to retrieve hotels that offer double bed rooms and sort them by price in descending order.\n",
    "\n",
    "\n",
    "\n",
    "2)    2   Write a SQL query to calculate the average price for each room type.\n",
    "\n",
    "\n",
    "From here we will be making SUBQUERIES including the data\n",
    "\n",
    " from table 1/Table 2/Table 3\n",
    "\n",
    "\n",
    "    \n",
    "3)  3     Write a query to find details of hotels with user ratings above 5 as a  threshold and that offer free WiFi. (Use table 1 and table 2)\n",
    "\n",
    "\n",
    "\n",
    "4)  4    Write a query to find hotels that offer both family rooms and non-smoking rooms(Use table 1 and Table 2)\n",
    "\n",
    "\n",
    "5)   5    Write a query to calculate the average price for each room type (Use table2 and Table 3)"
   ]
  },
  {
   "cell_type": "code",
   "execution_count": null,
   "id": "539a5250",
   "metadata": {},
   "outputs": [],
   "source": [
    "#1\n",
    "result=cursor.execute(\"SELECT*FROM Table3 WHERE[Room_type]='Double bed' ORDER BY Prices DESC\")\n",
    "for row in result :\n",
    "    print(row)"
   ]
  },
  {
   "cell_type": "code",
   "execution_count": null,
   "id": "bc3a50fe",
   "metadata": {},
   "outputs": [],
   "source": [
    "#2\n",
    "result=cursor.execute(\"SELECT[Room_type],AVG(Prices)AS AveragePrice FROM Table3 GROUP BY [Room_type]\")\n",
    "for row in result :\n",
    "    print(row)"
   ]
  },
  {
   "cell_type": "code",
   "execution_count": null,
   "id": "79d8b9db",
   "metadata": {},
   "outputs": [],
   "source": [
    "#3\n",
    "result=cursor.execute(\"SELECT T1*FROM Table1 JOIN Table2 T2 ON T1.[hotel_name]=T2.[hotel_name] Where T1.user_ratings>\n",
    "                      5 AND T2.[free_wifi]='Yes'\")\n",
    "for row in result :\n",
    "    print(row)"
   ]
  },
  {
   "cell_type": "code",
   "execution_count": null,
   "id": "708a6535",
   "metadata": {},
   "outputs": [],
   "source": [
    "#4\n",
    "result=cursor.execute(\"SELECT T1*FROM Table1 T1 JOIN Table2 T2 ON T1.[hotel_name]=T2.[hotel_name]\n",
    "                      WHERE T2.[Family_rooms]='Yes' AND T2.[Non_smoking_rooms]='Yes'\")\n",
    "for row in result :\n",
    "    print(row)"
   ]
  },
  {
   "cell_type": "code",
   "execution_count": null,
   "id": "a4897936",
   "metadata": {},
   "outputs": [],
   "source": [
    "#5\n",
    "result=cursor.execute(\"SELECT D3.[Room_type],AVG(D3.Prices) AS AveragePrice From Table2 T2 JOIN\n",
    "                      Table3 D3 ON T2.[hotel_name]=D3.[Hotel_name] GROUP BY D3.[Room_type]\")\n",
    "for row in result :\n",
    "    print(row)"
   ]
  }
 ],
 "metadata": {
  "kernelspec": {
   "display_name": "Python 3 (ipykernel)",
   "language": "python",
   "name": "python3"
  },
  "language_info": {
   "codemirror_mode": {
    "name": "ipython",
    "version": 3
   },
   "file_extension": ".py",
   "mimetype": "text/x-python",
   "name": "python",
   "nbconvert_exporter": "python",
   "pygments_lexer": "ipython3",
   "version": "3.9.12"
  }
 },
 "nbformat": 4,
 "nbformat_minor": 5
}
